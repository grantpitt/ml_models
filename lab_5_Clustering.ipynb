{
 "cells": [
  {
   "cell_type": "markdown",
   "metadata": {
    "id": "DVL7_bgmIAPR"
   },
   "source": [
    "# Unsupervised Learning: Clustering Lab\n",
    "\n",
    "\n",
    "\n"
   ]
  },
  {
   "cell_type": "code",
   "execution_count": 792,
   "metadata": {
    "id": "6ZbYjZZZ_yLV"
   },
   "outputs": [],
   "source": [
    "from sklearn.base import BaseEstimator, ClassifierMixin, ClusterMixin\n",
    "from sklearn.cluster import AgglomerativeClustering, KMeans\n",
    "from sklearn.metrics import silhouette_score, calinski_harabasz_score, davies_bouldin_score\n",
    "import numpy as np\n",
    "import matplotlib.pyplot as plt\n",
    "\n",
    "from scipy import linalg as la\n",
    "import numpy.ma as ma\n",
    "from scipy.io import arff\n",
    "from sklearn.preprocessing import MinMaxScaler\n",
    "import pandas as pd\n",
    "from sklearn.preprocessing import LabelEncoder\n",
    "from sklearn.decomposition import PCA\n",
    "from sklearn.model_selection import GridSearchCV"
   ]
  },
  {
   "cell_type": "markdown",
   "metadata": {
    "id": "sCcEPx5VIORj"
   },
   "source": [
    "## 1. (50%) Implement the k-means clustering algorithm and the HAC (Hierarchical Agglomerative Clustering) algorithm.\n",
    "\n",
    "### 1.1.1 HAC\n",
    "\n",
    "### Code requirements \n",
    "- HAC should support both single link and complete link options.\n",
    "- HAC automatically generates all clusterings from n to 1.  To simplify the amount of output you may want to implement a mechanism to specify for which k values actual output will be generated.\n",
    "\n",
    "\n",
    "---\n",
    "The output should include the following:\n",
    "- The number of clusters (k).\n",
    "- The silhouette score of the full clustering. (You can either write and use your own silhouette_score function (extra credit) or use sklearn's)\n",
    "\n",
    "\n",
    "For each cluster report include:\n",
    "\n",
    "\n",
    "- The centroid id.\n",
    "- The number of instances tied to that centroid. \n",
    "---"
   ]
  },
  {
   "cell_type": "code",
   "execution_count": 605,
   "metadata": {
    "id": "_a2KSZ_7AN0G"
   },
   "outputs": [],
   "source": [
    "class HACClustering(BaseEstimator, ClusterMixin):\n",
    "\n",
    "    def __init__(self, k=3, link_type=\"single\"):  # add parameters here\n",
    "        \"\"\"\n",
    "        Args:\n",
    "            k = how many final clusters to have\n",
    "            link_type = single or complete. when combining two clusters use complete link or single link\n",
    "        \"\"\"\n",
    "        self.k = k\n",
    "        self.link_type = link_type\n",
    "        \n",
    "    def fit(self, X, y=None):\n",
    "        \"\"\" Fit the data; In this lab this will make the K clusters :D\n",
    "        Args:\n",
    "            X (array-like): A 2D numpy array with the training data\n",
    "            y (array-like): An optional argument. Clustering is usually unsupervised so you don't need labels\n",
    "        Returns:\n",
    "            self: this allows this to be chained, e.g. model.fit(X,y).predict(X_test)\n",
    "        \"\"\"\n",
    "        # Setup distance matrix and clusters\n",
    "        A = np.array([la.norm(X - val, axis=1) for val in X])\n",
    "        self.clusters = dict(enumerate([[val] for val in X]))\n",
    "        \n",
    "        # Setup optimization metrics\n",
    "        opt = np.min if self.link_type == \"single\" else np.max\n",
    "        \n",
    "        while len(self.clusters) > self.k:\n",
    "            mask = np.diag(np.ones(len(A)))\n",
    "            x, y = np.unravel_index(np.argmin(ma.MaskedArray(A, mask)), A.shape)\n",
    "            if x == y:\n",
    "                print(ma.MaskedArray(A, A==0))\n",
    "\n",
    "            dists = opt(list(zip(A[x], A[y])), axis=1)\n",
    "            dists[x] = 0\n",
    "\n",
    "            A[x] = dists\n",
    "            A[:,x] = dists\n",
    "            A = np.delete(A, y, axis=0)\n",
    "            A = np.delete(A, y, axis=1)\n",
    "            \n",
    "            self.clusters[x] += self.clusters[y]\n",
    "\n",
    "            self.clusters = dict(enumerate([cluster for key, cluster \n",
    "                                       in self.clusters.items() if key != y]))\n",
    "        \n",
    "        # Order the data and setup the labels\n",
    "        self.X = self.flatten(self.clusters.values())\n",
    "        keys = [np.full(len(vals), key) for key, vals in self.clusters.items()]\n",
    "        self.labels = self.flatten(keys)\n",
    "\n",
    "        return self\n",
    "\n",
    "    def flatten(self, metalist):\n",
    "        return np.array([val for sublist in metalist for val in sublist])\n",
    "    \n",
    "    def silhouette(self):\n",
    "        return silhouette_score(self.X, self.labels)\n",
    "    \n",
    "    def cluster_sizes(self):\n",
    "        print(*[len(cluster) for cluster in self.clusters.values()])\n",
    "    \n",
    "    def print_clusters(self):\n",
    "        print(\"Num clusters: {:d}\\n\".format(self.k))\n",
    "        print(\"Silhouette score: {:.4f}\\n\\n\".format(self.silhouette()))\n",
    "        for cluster in self.clusters.values():\n",
    "            centroid = np.mean(np.array(cluster), axis=0)\n",
    "            print(np.array2string(centroid,precision=4,separator=\",\"))\n",
    "            print(\"{:d}\\n\".format(len(cluster)))"
   ]
  },
  {
   "cell_type": "markdown",
   "metadata": {
    "id": "KibCIXIThpbE"
   },
   "source": [
    "### 1.1.2 Debug \n",
    "\n",
    "Debug your model by running it on the [Debug Dataset](https://raw.githubusercontent.com/cs472ta/CS472/master/datasets/abalone.arff)\n",
    "\n",
    "\n",
    "---\n",
    "The dataset was modified to be a lot smaller. The last datapoint should be on line 359 or the point 0.585,0.46,0.185,0.922,0.3635,0.213,0.285,10. The remaining points should be commented out.\n",
    "\n",
    "\n",
    "- Make sure to include the output class (last column) as an additional input feature\n",
    "- Normalize Data\n",
    "- K = 5\n",
    "- Use 4 decimal places and DO NOT ROUND when reporting silhouette score and centroid values.\n",
    "\n",
    "\n",
    "---\n",
    "Solutions in files:\n",
    "\n",
    "[Debug HAC Single (Silhouette).txt](https://raw.githubusercontent.com/cs472ta/CS472/master/debug_solutions/Debug%20HAC%20Single%20Link%20(Silhouette).txt)\n",
    "\n",
    "[Debug HAC Complete (Silhouette).txt](https://raw.githubusercontent.com/cs472ta/CS472/master/debug_solutions/Debug%20HAC%20Complete%20Link%20(Silhouette).txt)"
   ]
  },
  {
   "cell_type": "code",
   "execution_count": 557,
   "metadata": {},
   "outputs": [
    {
     "name": "stdout",
     "output_type": "stream",
     "text": [
      "Num clusters: 5\n",
      "\n",
      "Silhouette score: 0.3453\n",
      "\n",
      "\n",
      "[0.599 ,0.5923,0.4915,0.2826,0.2682,0.2921,0.2316,0.3849]\n",
      "195\n",
      "\n",
      "[0.9189,0.9438,0.7105,0.7016,0.759 ,0.7222,0.4472,0.8824]\n",
      "1\n",
      "\n",
      "[1.    ,0.9831,0.8026,0.8343,0.6575,0.7825,0.9221,0.8824]\n",
      "2\n",
      "\n",
      "[1.    ,0.9888,0.7895,1.    ,1.    ,0.8915,0.7186,0.5882]\n",
      "1\n",
      "\n",
      "[0.9189,0.9888,0.8684,0.719 ,0.5797,0.7512,0.6432,0.9412]\n",
      "1\n",
      "\n",
      "Num clusters: 5\n",
      "\n",
      "Silhouette score: 0.3095\n",
      "\n",
      "\n",
      "[0.6544,0.649 ,0.5256,0.2879,0.2815,0.3057,0.2288,0.3911]\n",
      "71\n",
      "\n",
      "[0.3661,0.3505,0.271 ,0.1008,0.1024,0.1058,0.0836,0.2116]\n",
      "67\n",
      "\n",
      "[0.7622,0.7658,0.6759,0.4265,0.4016,0.4536,0.3376,0.5217]\n",
      "38\n",
      "\n",
      "[0.8818,0.8904,0.7582,0.614 ,0.5433,0.5317,0.561 ,0.7794]\n",
      "16\n",
      "\n",
      "[0.9471,0.934 ,0.8158,0.7457,0.6434,0.7944,0.6457,0.625 ]\n",
      "8\n",
      "\n"
     ]
    }
   ],
   "source": [
    "# Debug Here\n",
    "# Load data\n",
    "abalone = arff.loadarff(\"datasets/abalone.arff\")\n",
    "abalone_np = np.array(abalone[0].tolist())\n",
    "abalone_scaled_np = MinMaxScaler().fit_transform(abalone_np)\n",
    "\n",
    "# Single link\n",
    "hac = HACClustering(5, link_type=\"single\")\n",
    "hac.fit(abalone_scaled_np).print_clusters()\n",
    "\n",
    "# Complete link\n",
    "hac = HACClustering(5, link_type=\"complete\")\n",
    "hac.fit(abalone_scaled_np).print_clusters()"
   ]
  },
  {
   "cell_type": "markdown",
   "metadata": {
    "id": "kY3VNB1ui03N"
   },
   "source": [
    "### 1.1.3 Evaluation\n",
    "\n",
    "We will evaluate your model based on its print_clusters() output using [Evaluation Dataset](https://raw.githubusercontent.com/cs472ta/CS472/master/datasets/seismic-bumps_train.arff)\n",
    "\n",
    "- Make sure to include the output class (last column) as an additional input feature\n",
    "- Normalize Data\n",
    "- K = 5\n",
    "- Use 4 decimal places and DO NOT ROUND when reporting silhouette score and centroid values."
   ]
  },
  {
   "cell_type": "markdown",
   "metadata": {},
   "source": [
    "#### 1.1.3.1 Complete Link"
   ]
  },
  {
   "cell_type": "code",
   "execution_count": 501,
   "metadata": {
    "id": "2yAxA78QjDh2"
   },
   "outputs": [
    {
     "name": "stdout",
     "output_type": "stream",
     "text": [
      "Num clusters: 5\n",
      "\n",
      "Silhouette score: 0.2930\n",
      "\n",
      "\n",
      "[0.3636,0.4107,0.5609,0.3857,0.3937,0.2808,0.3155,0.    ]\n",
      "49\n",
      "\n",
      "[0.3471,0.3622,0.7897,0.279 ,0.441 ,0.8568,0.2234,0.    ]\n",
      "3\n",
      "\n",
      "[0.1656,0.2226,0.3509,0.2328,0.152 ,0.3424,0.1918,0.    ]\n",
      "18\n",
      "\n",
      "[0.7918,0.8268,0.606 ,0.7669,0.7787,0.4634,0.7877,1.    ]\n",
      "49\n",
      "\n",
      "[0.5326,0.6002,0.4536,0.5531,0.5144,0.5401,0.6266,1.    ]\n",
      "21\n",
      "\n"
     ]
    }
   ],
   "source": [
    "# Load evaluation data\n",
    "seismic = arff.loadarff(\"datasets/seismic-bumps_train.arff\")\n",
    "seismic_np = np.array(seismic[0].tolist())\n",
    "seismic_scaled_np = MinMaxScaler().fit_transform(seismic_np)\n",
    "\n",
    "# Train on evaluation data using complete link\n",
    "hac = HACClustering(5, link_type=\"complete\")\n",
    "hac.fit(seismic_scaled_np)\n",
    "\n",
    "# Print clusters\n",
    "hac.print_clusters()"
   ]
  },
  {
   "cell_type": "markdown",
   "metadata": {},
   "source": [
    "#### 1.1.3.1 Single Link"
   ]
  },
  {
   "cell_type": "code",
   "execution_count": 249,
   "metadata": {},
   "outputs": [
    {
     "name": "stdout",
     "output_type": "stream",
     "text": [
      "Num clusters: 5\n",
      "\n",
      "Silhouette score: 0.3971\n",
      "\n",
      "\n",
      "[0.3159,0.3648,0.5145,0.349 ,0.3338,0.3077,0.2868,0.    ]\n",
      "67\n",
      "\n",
      "[0.2774,0.2597,1.    ,0.1224,0.4505,0.7549,0.129 ,0.    ]\n",
      "1\n",
      "\n",
      "[0.3065,0.3333,0.6979,0.2792,0.3787,1.    ,0.2373,0.    ]\n",
      "1\n",
      "\n",
      "[0.0884,0.1818,0.    ,0.145 ,0.1538,0.1245,0.    ,0.    ]\n",
      "1\n",
      "\n",
      "[0.714 ,0.7588,0.5603,0.7028,0.6994,0.4864,0.7393,1.    ]\n",
      "70\n",
      "\n"
     ]
    }
   ],
   "source": [
    "# Load evaluation data\n",
    "\n",
    "# Train on evaluation data using single link\n",
    "hac = HACClustering(5, link_type=\"single\")\n",
    "hac.fit(seismic_scaled_np)\n",
    "\n",
    "# Print clusters\n",
    "hac.print_clusters()"
   ]
  },
  {
   "cell_type": "markdown",
   "metadata": {},
   "source": [
    "### 1.2.1 K-Means\n",
    "\n",
    "### Code requirements \n",
    "- Ability to choose k and specify k initial centroids\n",
    "- Use Euclidean Distance as metric\n",
    "- Ability to handle distance ties\n",
    "- Include output label as a cluster feature\n",
    "\n",
    "\n",
    "---\n",
    "The output should include the following:\n",
    "- The number of clusters (k).\n",
    "- The silhouette score of the full clustering. (You can either write and use your own silhouette_score function (extra credit) or use sklearn's)\n",
    "\n",
    "\n",
    "For each cluster report include:\n",
    "\n",
    "\n",
    "- The centroid id.\n",
    "- The number of instances tied to that centroid. \n",
    "---\n",
    "You only need to handle continuous features"
   ]
  },
  {
   "cell_type": "code",
   "execution_count": 654,
   "metadata": {
    "id": "_a2KSZ_7AN0G"
   },
   "outputs": [],
   "source": [
    "class KMEANSClustering(BaseEstimator, ClusterMixin):\n",
    "\n",
    "    def __init__(self, k=3, debug=False): ## add parameters here\n",
    "        \"\"\"\n",
    "        Args:\n",
    "            k = how many final clusters to have\n",
    "            debug = if debug is true use the first k instances as the initial centroids otherwise choose random points as the initial centroids.\n",
    "        \"\"\"\n",
    "        self.k = k\n",
    "        self.debug = debug\n",
    "\n",
    "    def fit(self, X, y=None):\n",
    "        \"\"\" Fit the data; In this lab this will make the K clusters :D\n",
    "        Args:\n",
    "            X (array-like): A 2D numpy array with the training data\n",
    "            y (array-like): An optional argument. Clustering is usually unsupervised so you don't need labels\n",
    "        Returns:\n",
    "            self: this allows this to be chained, e.g. model.fit(X,y).predict(X_test)\n",
    "        \"\"\"\n",
    "        # Create initial centroids\n",
    "        initial = X[:self.k] if self.debug else np.random.random((self.k, len(X[0])))\n",
    "        self.centroids = dict(enumerate(initial))\n",
    "\n",
    "        max_iter = 2500\n",
    "        tol = 1e-4\n",
    "        for i in range(max_iter):\n",
    "            \n",
    "            # Compute clusters\n",
    "            dists = np.array([la.norm(list(self.centroids.values()) - val, axis=1)\n",
    "                          for val in X])\n",
    "            mins = np.argmin(dists, axis=1)\n",
    "            self.clusters = {j: [] for j in range(self.k)}\n",
    "            for j, val in enumerate(X):\n",
    "                self.clusters[mins[j]].append(val)\n",
    "            \n",
    "            # Recompute centroids\n",
    "            prev = dict(self.centroids)            \n",
    "    \n",
    "            for j, cluster in self.clusters.items():\n",
    "                if len(cluster) > 0:\n",
    "                    self.centroids[j] = np.mean(cluster, axis=0)\n",
    "                else:\n",
    "                    self.centroids[j] = np.random.random(len(X[0]))\n",
    "            \n",
    "            # See if the centroids have moved much\n",
    "            converged = True\n",
    "            for centroid in self.centroids:\n",
    "                if la.norm(prev[centroid] - self.centroids[centroid]) > tol:\n",
    "                    converged = False\n",
    "                    break\n",
    "            \n",
    "            if converged:\n",
    "                break\n",
    "        \n",
    "        self.X = self.flatten(self.clusters.values())\n",
    "        keys = [np.full(len(vals), key) for key, vals in self.clusters.items()]\n",
    "        self.labels = self.flatten(keys)\n",
    "        \n",
    "        return self\n",
    "    \n",
    "    def flatten(self, metalist):\n",
    "        return np.array([val for sublist in metalist for val in sublist])\n",
    "\n",
    "    def silhouette(self):\n",
    "        return silhouette_score(self.X, self.labels)\n",
    "    \n",
    "    def cluster_sizes(self):\n",
    "        print(*[len(cluster) for cluster in self.clusters.values()])\n",
    "    \n",
    "    def print_clusters(self):\n",
    "        \"\"\"\n",
    "            Used for grading.\n",
    "            print(\"Num clusters: {:d}\\n\".format(k))\n",
    "            print(\"Silhouette score: {:.4f}\\n\\n\".format(silhouette_score))\n",
    "            for each cluster and centroid:\n",
    "                print(np.array2string(centroid,precision=4,separator=\",\"))\n",
    "                print(\"{:d}\\n\".format(size of cluster))\n",
    "        \"\"\"\n",
    "        print(\"Num clusters: {:d}\\n\".format(self.k))\n",
    "        print(\"Silhouette score: {:.4f}\\n\\n\".format(silhouette_score(self.X, self.labels)))\n",
    "        for cluster in self.clusters.values():\n",
    "            centroid = np.mean(np.array(cluster), axis=0)\n",
    "            print(np.array2string(centroid,precision=4,separator=\",\"))\n",
    "            print(\"{:d}\\n\".format(len(cluster)))"
   ]
  },
  {
   "cell_type": "code",
   "execution_count": 641,
   "metadata": {},
   "outputs": [
    {
     "name": "stdout",
     "output_type": "stream",
     "text": [
      "False\n"
     ]
    },
    {
     "data": {
      "text/plain": [
       "{1: 2, 3: 4}"
      ]
     },
     "execution_count": 641,
     "metadata": {},
     "output_type": "execute_result"
    }
   ],
   "source": [
    "print(type(np.nan) is np.ndarray)\n",
    "\n",
    "d = {1: 2, 3: 4}\n",
    "d = {i: d[i] for i in [1, 3]}\n",
    "d"
   ]
  },
  {
   "cell_type": "markdown",
   "metadata": {
    "id": "KibCIXIThpbE"
   },
   "source": [
    "### 1.2.2 Debug \n",
    "\n",
    "Debug your model by running it on the [Debug Dataset](https://raw.githubusercontent.com/cs472ta/CS472/master/datasets/abalone.arff)\n",
    "\n",
    "\n",
    "- Train until convergence\n",
    "- Make sure to include the output class (last column) as an additional input feature\n",
    "- Normalize Data\n",
    "- K = 5\n",
    "- Use the first k instances as the initial centroids\n",
    "- Use 4 decimal places and DO NOT ROUND when reporting silhouette score and centroid values\n",
    "\n",
    "\n",
    "\n",
    "\n",
    "---\n",
    "Solutions in files:\n",
    "\n",
    "[Debug K Means (Silhouette).txt](https://raw.githubusercontent.com/cs472ta/CS472/master/debug_solutions/Debug%20K%20Means%20(Silhouette).txt)"
   ]
  },
  {
   "cell_type": "code",
   "execution_count": 655,
   "metadata": {
    "id": "KgAyy82gixIF"
   },
   "outputs": [
    {
     "name": "stdout",
     "output_type": "stream",
     "text": [
      "Num clusters: 5\n",
      "\n",
      "Silhouette score: 0.3845\n",
      "\n",
      "\n",
      "[0.7325,0.7327,0.627 ,0.3817,0.3633,0.4045,0.3046,0.4839]\n",
      "75\n",
      "\n",
      "[0.3704,0.3519,0.2686,0.0926,0.0935,0.094 ,0.0792,0.218 ]\n",
      "34\n",
      "\n",
      "[0.9035,0.905 ,0.7774,0.6579,0.5767,0.6193,0.5893,0.7279]\n",
      "24\n",
      "\n",
      "[0.5692,0.5628,0.4376,0.211 ,0.2113,0.2248,0.1659,0.317 ]\n",
      "54\n",
      "\n",
      "[0.1296,0.1037,0.1053,0.0177,0.0211,0.0272,0.0135,0.0724]\n",
      "13\n",
      "\n"
     ]
    }
   ],
   "source": [
    "# Load debug data\n",
    "\n",
    "# Train on debug data\n",
    "kmeans = KMEANSClustering(5, debug=True)\n",
    "kmeans.fit(abalone_scaled_np)\n",
    "\n",
    "# Print clusters\n",
    "kmeans.print_clusters()"
   ]
  },
  {
   "cell_type": "markdown",
   "metadata": {
    "id": "kY3VNB1ui03N"
   },
   "source": [
    "### 1.2.3 Evaluation\n",
    "\n",
    "We will evaluate your model based on its print_clusters() output using [Evaluation Dataset](https://raw.githubusercontent.com/cs472ta/CS472/master/datasets/seismic-bumps_train.arff)\n",
    "- Train until convergence\n",
    "- Make sure to include the output class (last column) as an additional input feature\n",
    "- Normalize Data\n",
    "- K = 5\n",
    "- Use the first k instances as the initial centroids\n",
    "- Use 4 decimal places and DO NOT ROUND when reporting silhouette score and centroid values"
   ]
  },
  {
   "cell_type": "code",
   "execution_count": 656,
   "metadata": {
    "id": "2yAxA78QjDh2"
   },
   "outputs": [
    {
     "name": "stdout",
     "output_type": "stream",
     "text": [
      "Num clusters: 5\n",
      "\n",
      "Silhouette score: 0.2769\n",
      "\n",
      "\n",
      "[0.5349,0.6013,0.4617,0.5541,0.5232,0.5544,0.6248,1.    ]\n",
      "22\n",
      "\n",
      "[0.3684,0.4338,0.4356,0.4388,0.3573,0.2988,0.3673,0.    ]\n",
      "31\n",
      "\n",
      "[0.3658,0.3854,0.7563,0.3093,0.4659,0.3691,0.2413,0.    ]\n",
      "20\n",
      "\n",
      "[0.1634,0.2137,0.3968,0.2178,0.1555,0.3078,0.1775,0.    ]\n",
      "19\n",
      "\n",
      "[0.7961,0.831 ,0.6054,0.7709,0.7802,0.4553,0.7919,1.    ]\n",
      "48\n",
      "\n"
     ]
    }
   ],
   "source": [
    "# Load evaluation data\n",
    "\n",
    "# Train on evaluation data\n",
    "kmeans = KMEANSClustering(5, debug=True)\n",
    "kmeans.fit(seismic_scaled_np)\n",
    "\n",
    "# Print clusters\n",
    "kmeans.print_clusters()"
   ]
  },
  {
   "cell_type": "markdown",
   "metadata": {
    "id": "9vWiTdlbR2Xh"
   },
   "source": [
    "## 2.1.1 (7.5%) Clustering the Iris Classification problem - HAC\n",
    "\n",
    "Load the Iris Dataset [Iris Dataset](https://raw.githubusercontent.com/cs472ta/CS472/master/datasets/iris.arff)\n",
    "\n",
    "- Use single-link and complete link clustering algorithms\n",
    "- State whether you normalize your data or not (your choice).  \n",
    "- Show your results for clusterings using k = 2-7.  \n",
    "- Graph the silhouette score for each k and discuss your results (i.e. what kind of clusters are being made).\n",
    "---"
   ]
  },
  {
   "cell_type": "code",
   "execution_count": 581,
   "metadata": {
    "id": "4SSoasDQSKXb"
   },
   "outputs": [
    {
     "name": "stdout",
     "output_type": "stream",
     "text": [
      "50 100\n",
      "49 1 100\n",
      "49 1 98 2\n",
      "49 1 97 1 2\n",
      "49 1 96 1 1 2\n",
      "49 1 95 1 1 1 2\n"
     ]
    },
    {
     "data": {
      "image/png": "[encoded data removed]",
      "text/plain": [
       "<Figure size 432x288 with 1 Axes>"
      ]
     },
     "metadata": {
      "needs_background": "light"
     },
     "output_type": "display_data"
    }
   ],
   "source": [
    "# Iris Classification using single-link\n",
    "iris = arff.loadarff(\"datasets/iris.arff\")\n",
    "\n",
    "# Encode classes\n",
    "iris_df = pd.DataFrame(iris[0])\n",
    "iris_df[\"class\"] = LabelEncoder().fit_transform(iris_df[\"class\"])\n",
    "iris_np = iris_df.to_numpy()\n",
    "\n",
    "# Normalize the data\n",
    "iris_scaled_np = MinMaxScaler().fit_transform(iris_np)\n",
    "\n",
    "dom = np.arange(2, 8)\n",
    "scores = []\n",
    "for k in dom:\n",
    "    hac = HACClustering(k, link_type=\"single\")\n",
    "    hac.fit(iris_scaled_np[:,:-1])\n",
    "    scores.append(hac.silhouette())\n",
    "    hac.cluster_sizes()\n",
    "plt.plot(dom, scores)\n",
    "plt.show()"
   ]
  },
  {
   "cell_type": "code",
   "execution_count": 582,
   "metadata": {},
   "outputs": [
    {
     "name": "stdout",
     "output_type": "stream",
     "text": [
      "116 34\n",
      "50 66 34\n",
      "33 17 66 34\n",
      "33 17 37 29 34\n",
      "33 17 37 29 23 11\n",
      "33 17 23 29 14 23 11\n"
     ]
    },
    {
     "data": {
      "image/png": "[encoded data removed]",
      "text/plain": [
       "<Figure size 432x288 with 1 Axes>"
      ]
     },
     "metadata": {
      "needs_background": "light"
     },
     "output_type": "display_data"
    }
   ],
   "source": [
    "# Iris Classification using complete-link\n",
    "scores = []\n",
    "for k in dom:\n",
    "    hac = HACClustering(k, link_type=\"complete\")\n",
    "    hac.fit(iris_scaled_np[:,:-1])\n",
    "    scores.append(hac.silhouette())\n",
    "    hac.cluster_sizes()\n",
    "plt.plot(dom, scores)\n",
    "plt.show()"
   ]
  },
  {
   "cell_type": "markdown",
   "metadata": {},
   "source": [
    "I normalized the data. Single link as a higher max accuracy in this case where we didn't include the classes. The shapes of the graphs are really different too, the complete link does worst at k=2 while single link does best here. The single link can really only make 2 bit clusters while the complete link can break into about evenly sized clusters for each k."
   ]
  },
  {
   "cell_type": "markdown",
   "metadata": {},
   "source": [
    "## 2.1.2 (5%) Clustering the Iris Classification problem - HAC\n",
    "\n",
    "Requirements:\n",
    "- Repeat excercise 2.1.1 and include the output label as one of the input features."
   ]
  },
  {
   "cell_type": "code",
   "execution_count": 585,
   "metadata": {},
   "outputs": [
    {
     "name": "stdout",
     "output_type": "stream",
     "text": [
      "50 100\n",
      "50 50 50\n",
      "50 50 49 1\n",
      "49 1 50 49 1\n",
      "49 1 50 47 1 2\n",
      "49 1 50 46 1 2 1\n"
     ]
    },
    {
     "data": {
      "image/png": "[encoded data removed]",
      "text/plain": [
       "<Figure size 432x288 with 1 Axes>"
      ]
     },
     "metadata": {
      "needs_background": "light"
     },
     "output_type": "display_data"
    }
   ],
   "source": [
    "# Clustering Labels using single-link\n",
    "scores = []\n",
    "for k in dom:\n",
    "    hac = HACClustering(k, link_type=\"single\")\n",
    "    hac.fit(iris_scaled_np)\n",
    "    scores.append(hac.silhouette())\n",
    "    hac.cluster_sizes()\n",
    "plt.plot(dom, scores)\n",
    "plt.show()"
   ]
  },
  {
   "cell_type": "code",
   "execution_count": 586,
   "metadata": {},
   "outputs": [
    {
     "name": "stdout",
     "output_type": "stream",
     "text": [
      "50 100\n",
      "50 70 30\n",
      "33 17 70 30\n",
      "33 17 50 30 20\n",
      "33 17 21 29 30 20\n",
      "33 17 21 29 19 20 11\n"
     ]
    },
    {
     "data": {
      "image/png": "[encoded data removed]",
      "text/plain": [
       "<Figure size 432x288 with 1 Axes>"
      ]
     },
     "metadata": {
      "needs_background": "light"
     },
     "output_type": "display_data"
    }
   ],
   "source": [
    "# Clustering Labels using complete-link\n",
    "scores = []\n",
    "for k in dom:\n",
    "    hac = HACClustering(k, link_type=\"complete\")\n",
    "    hac.fit(iris_scaled_np)\n",
    "    scores.append(hac.silhouette())\n",
    "    hac.cluster_sizes()\n",
    "plt.plot(dom, scores)\n",
    "plt.show()"
   ]
  },
  {
   "cell_type": "markdown",
   "metadata": {},
   "source": [
    "Both did better with the classes included. The biggest difference can be seen in the complete link graph. It now peaks at k=2 just like single link and basically goes do from there. Single link made more evenly distributed cluster sized at least for k=3."
   ]
  },
  {
   "cell_type": "markdown",
   "metadata": {
    "id": "9vWiTdlbR2Xh"
   },
   "source": [
    "## 2.2.1 (7.5%) Clustering the Iris Classification problem: K-Means\n",
    "\n",
    "Load the Iris Dataset [Iris Dataset](https://raw.githubusercontent.com/cs472ta/CS472/master/datasets/iris.arff)\n",
    "\n",
    "Run K-Means on the Iris dataset using the output label as a feature and without using the output label as a feature\n",
    "\n",
    "Requirements:\n",
    "- State whether you normalize your data or not (your choice).  \n",
    "- Show your results for clusterings using k = 2-7.  \n",
    "- Graph the silhouette score for each k and discuss your results (i.e. what kind of clusters are being made).\n",
    "---"
   ]
  },
  {
   "cell_type": "code",
   "execution_count": 669,
   "metadata": {},
   "outputs": [
    {
     "name": "stdout",
     "output_type": "stream",
     "text": [
      "100 50\n",
      "61 39 50\n",
      "31 42 50 27\n",
      "35 43 15 30 27\n",
      "44 26 25 20 11 24\n",
      "25 25 12 36 21 14 17\n"
     ]
    },
    {
     "data": {
      "image/png": "[encoded data removed]",
      "text/plain": [
       "<Figure size 432x288 with 1 Axes>"
      ]
     },
     "metadata": {
      "needs_background": "light"
     },
     "output_type": "display_data"
    }
   ],
   "source": [
    "# Iris Classification without output label\n",
    "scores = []\n",
    "for k in dom:\n",
    "    kmeans = KMEANSClustering(k)\n",
    "    kmeans.fit(iris_scaled_np[:,:-1])\n",
    "    scores.append(kmeans.silhouette())\n",
    "    kmeans.cluster_sizes()\n",
    "plt.plot(dom, scores)\n",
    "plt.show()"
   ]
  },
  {
   "cell_type": "code",
   "execution_count": 682,
   "metadata": {
    "id": "4SSoasDQSKXb"
   },
   "outputs": [
    {
     "name": "stdout",
     "output_type": "stream",
     "text": [
      "50 100\n",
      "50 50 50\n",
      "23 27 50 50\n",
      "21 50 27 23 29\n",
      "26 23 27 23 24 27\n",
      "4 24 21 28 22 29 22\n"
     ]
    },
    {
     "data": {
      "image/png": "[encoded data removed]",
      "text/plain": [
       "<Figure size 432x288 with 1 Axes>"
      ]
     },
     "metadata": {
      "needs_background": "light"
     },
     "output_type": "display_data"
    }
   ],
   "source": [
    "# Iris Classification with output label\n",
    "scores = []\n",
    "for k in dom:\n",
    "    kmeans = KMEANSClustering(k)\n",
    "    kmeans.fit(iris_scaled_np)\n",
    "    scores.append(kmeans.silhouette())\n",
    "    kmeans.cluster_sizes()\n",
    "plt.plot(dom, scores)\n",
    "plt.show()"
   ]
  },
  {
   "cell_type": "markdown",
   "metadata": {},
   "source": [
    "They both have similar shapes to the graph but the best score is a bit higher with the class. It looks like it did a really good job seperating the data into evenly sized clusters."
   ]
  },
  {
   "cell_type": "markdown",
   "metadata": {},
   "source": [
    "## 2.2.2 (5%) Clustering the Iris Classification problem: K-Means\n",
    "\n",
    "Requirements:\n",
    "- Use the output label as an input feature\n",
    "- Run K-Means 5 times with k=4, each time with different initial random centroids and discuss any variations in the results. "
   ]
  },
  {
   "cell_type": "code",
   "execution_count": 808,
   "metadata": {},
   "outputs": [
    {
     "name": "stdout",
     "output_type": "stream",
     "text": [
      "23 50 27 50\n",
      "24 50 26 50\n",
      "27 49 50 24\n",
      "50 50 27 23\n",
      "15 35 50 50\n"
     ]
    },
    {
     "data": {
      "image/png": "[encoded data removed]",
      "text/plain": [
       "<Figure size 864x576 with 5 Axes>"
      ]
     },
     "metadata": {
      "needs_background": "light"
     },
     "output_type": "display_data"
    },
    {
     "data": {
      "image/png": "[encoded data removed]",
      "text/plain": [
       "<Figure size 432x288 with 1 Axes>"
      ]
     },
     "metadata": {
      "needs_background": "light"
     },
     "output_type": "display_data"
    }
   ],
   "source": [
    "# K-Means 5 times\n",
    "scores = []\n",
    "plt.figure(figsize=(12, 8))\n",
    "colors = [\"c.\", \"y.\", \"b.\", \"r.\"]\n",
    "for i in range(5):\n",
    "    plt.subplot(2, 3, i+1)\n",
    "    kmeans = KMEANSClustering(4)\n",
    "    kmeans.fit(iris_scaled_np)\n",
    "    \n",
    "    for j, X in kmeans.clusters.items():\n",
    "#         pca = PCA(n_components=2)\n",
    "#         x, y = pca.fit_transform(X).T\n",
    "        x, y = np.array(X)[:,[1, 3]].T\n",
    "        plt.gca().set_aspect(\"equal\")\n",
    "        plt.plot(x, y, colors[j])\n",
    "    \n",
    "    scores.append(kmeans.silhouette())\n",
    "    kmeans.cluster_sizes()\n",
    "plt.show()\n",
    "plt.plot(scores)\n",
    "plt.show()"
   ]
  },
  {
   "cell_type": "markdown",
   "metadata": {},
   "source": [
    "I plotted a few of the dimentions of the data and how they got clustered. As you can see they can vary quite a bit. The score varied as well."
   ]
  },
  {
   "cell_type": "markdown",
   "metadata": {
    "id": "oBBmeNQ7jvcQ"
   },
   "source": [
    "## 3.1 (12.5%) Run the SK versions of HAC (both single and complete link) on iris including the output label and compare your results with those above.\n",
    "Use the silhouette score for this iris problem(k = 2-7).  You may write your own code to do silhouette (optional extra credit) or you can use sklearn.metrics.silhouette_score. Please state if you coded your own silhouette score function to receive the extra credit points (described below). Discuss how helpful Silhouette appeared to be for selecting which clustering is best. You do not need to supply full Silhouette graphs, but you could if you wanted to.\n",
    "\n",
    "Requirements\n",
    "- Use the Sillhouette score for this iris problem (k= 2-7) \n",
    "- Use at least one other scoring function from [sklearn.metrics](https://scikit-learn.org/stable/modules/model_evaluation.html) and compare the results. State which metric was used. \n",
    "- Possible sklean metrics include (* metrics require ground truth labels):\n",
    "    - adjusted_mutual_info_score*\n",
    "    - adjusted_rand_score*\n",
    "    - homogeneity_score*\n",
    "    - completeness_score*\n",
    "    - fowlkes_mallows_score*\n",
    "    - calinski_harabasz_score\n",
    "    - davies_bouldin_score\n",
    "- Experiment using different hyper-parameters. Discuss Results"
   ]
  },
  {
   "cell_type": "code",
   "execution_count": 795,
   "metadata": {
    "id": "OFQv70W2VyqJ"
   },
   "outputs": [
    {
     "data": {
      "image/png": "[encoded data removed]",
      "text/plain": [
       "<Figure size 864x288 with 2 Axes>"
      ]
     },
     "metadata": {
      "needs_background": "light"
     },
     "output_type": "display_data"
    },
    {
     "data": {
      "image/png": "[encoded data removed]",
      "text/plain": [
       "<Figure size 864x288 with 2 Axes>"
      ]
     },
     "metadata": {
      "needs_background": "light"
     },
     "output_type": "display_data"
    },
    {
     "name": "stdout",
     "output_type": "stream",
     "text": [
      "0.6398447268887528\n",
      "0.47886050421178256\n"
     ]
    }
   ],
   "source": [
    "# Load sklearn\n",
    "sil, cal = [], []\n",
    "for k in dom:\n",
    "    hac = AgglomerativeClustering(n_clusters=k, linkage=\"single\")\n",
    "    y = hac.fit_predict(iris_scaled_np)\n",
    "    sil.append(silhouette_score(iris_scaled_np, y))\n",
    "    cal.append(calinski_harabasz_score(iris_scaled_np, y))\n",
    "plt.figure(figsize=(12, 4))\n",
    "plt.subplot(1, 2, 1)\n",
    "plt.plot(dom, sil, label=\"silhouette\")\n",
    "plt.legend()\n",
    "plt.subplot(1, 2, 2)\n",
    "plt.plot(dom, cal, label=\"calinski harabasz\")\n",
    "plt.legend()\n",
    "plt.show()\n",
    "\n",
    "# Clustering Labels using complete-link\n",
    "sil, cal = [], []\n",
    "for k in dom:\n",
    "    hac = AgglomerativeClustering(n_clusters=k, linkage=\"complete\")\n",
    "    y = hac.fit_predict(iris_scaled_np)\n",
    "    sil.append(silhouette_score(iris_scaled_np, y))\n",
    "    cal.append(calinski_harabasz_score(iris_scaled_np, y))\n",
    "plt.figure(figsize=(12, 4))\n",
    "plt.subplot(1, 2, 1)\n",
    "plt.plot(dom, sil, label=\"silhouette\")\n",
    "plt.legend()\n",
    "plt.subplot(1, 2, 2)\n",
    "plt.plot(dom, cal, label=\"calinski harabasz\")\n",
    "plt.legend()\n",
    "plt.show()\n",
    "\n",
    "hac = AgglomerativeClustering(n_clusters=2, affinity=\"cosine\", linkage=\"average\")\n",
    "y = hac.fit_predict(iris_scaled_np)\n",
    "print(silhouette_score(iris_scaled_np, y))\n",
    "hac = AgglomerativeClustering(n_clusters=2, affinity=\"l1\", linkage=\"complete\")\n",
    "y = hac.fit_predict(iris_scaled_np)\n",
    "print(silhouette_score(iris_scaled_np, y))"
   ]
  },
  {
   "cell_type": "markdown",
   "metadata": {
    "id": "BqSFAXwlk3Ms"
   },
   "source": [
    "I did not use my own silhouette scoring function. Silhouette worked really well for choosing the best clustering. I used the calinski harabasz metric. After trying out a couple different hyperparameters, it seems an l2 distance function does quite a bit worse than the others."
   ]
  },
  {
   "cell_type": "markdown",
   "metadata": {
    "id": "oBBmeNQ7jvcQ"
   },
   "source": [
    "## 3.2 (12.5%) Run the SK version of k-means on iris including the output label and compare your results with those above. \n",
    "\n",
    "Use the silhouette score for this iris problem(k = 2-7). You may write your own code to do silhouette (optional extra credit) or you can use sklearn.metrics.silhouette_score. Please state if you coded your own silhouette score function to receive the extra credit points (described below). Discuss how helpful Silhouette appeared to be for selecting which clustering is best. You do not need to supply full Silhouette graphs, but you could if you wanted to.\n",
    "\n",
    "Requirements\n",
    "- Use the Sillhouette score for this iris problem (k= 2-7) \n",
    "- Use at least one other scoring function form sklearn.metrics and compare the results. State which metric was used\n",
    "- Experiment different hyper-parameters. Discuss Results"
   ]
  },
  {
   "cell_type": "code",
   "execution_count": 804,
   "metadata": {
    "id": "OFQv70W2VyqJ"
   },
   "outputs": [
    {
     "data": {
      "image/png": "[encoded data removed]",
      "text/plain": [
       "<Figure size 864x288 with 2 Axes>"
      ]
     },
     "metadata": {
      "needs_background": "light"
     },
     "output_type": "display_data"
    },
    {
     "name": "stdout",
     "output_type": "stream",
     "text": [
      "0.6398447268887528\n",
      "0.6398447268887528\n"
     ]
    }
   ],
   "source": [
    "# Load sklearn \n",
    "sil, dav = [], []\n",
    "for k in dom:\n",
    "    kmeans = KMeans(n_clusters=k)\n",
    "    y = kmeans.fit_predict(iris_scaled_np)\n",
    "    sil.append(silhouette_score(iris_scaled_np, y))\n",
    "    dav.append(davies_bouldin_score(iris_scaled_np, y))\n",
    "plt.figure(figsize=(12, 4))\n",
    "plt.subplot(1, 2, 1)\n",
    "plt.plot(dom, sil, label=\"silhouette\")\n",
    "plt.legend()\n",
    "plt.subplot(1, 2, 2)\n",
    "plt.plot(dom, dav, label=\"davies bouldin\")\n",
    "plt.legend()\n",
    "plt.show()\n",
    "\n",
    "\n",
    "kmeans = KMeans(n_clusters=2, init=\"random\", n_init=1)\n",
    "y = kmeans.fit_predict(iris_scaled_np)\n",
    "print(silhouette_score(iris_scaled_np, y))\n",
    "kmeans = KMeans(n_clusters=2, init=\"random\", n_init=100)\n",
    "y = kmeans.fit_predict(iris_scaled_np)\n",
    "print(silhouette_score(iris_scaled_np, y))"
   ]
  },
  {
   "cell_type": "markdown",
   "metadata": {
    "id": "BqSFAXwlk3Ms"
   },
   "source": [
    "I did not use my own silhouette scoring function. The silhouette function is really good at choosing the best k to choose. From the plots of the points above, you can see that the worse clusterings have lower silhouette scores. I tried out using the davies bouldin scoring function. I tried haveing the algorithm initialize random centroids once and then 100 times and it didn't chnage the silhouette score which was unexpected."
   ]
  },
  {
   "cell_type": "markdown",
   "metadata": {
    "id": "cTlK-kijk8Mg"
   },
   "source": [
    "## 4. (Optional 5% extra credit) For your silhouette experiment above, write and use your own code to calculate the silhouette scores, rather than the SK or other version. \n"
   ]
  },
  {
   "cell_type": "markdown",
   "metadata": {
    "id": "BqSFAXwlk3Ms"
   },
   "source": [
    "*Show findings here*"
   ]
  },
  {
   "cell_type": "code",
   "execution_count": null,
   "metadata": {},
   "outputs": [],
   "source": [
    "# Copy function Below"
   ]
  }
 ],
 "metadata": {
  "colab": {
   "collapsed_sections": [],
   "name": "lab 1 - perceptron",
   "provenance": []
  },
  "kernelspec": {
   "display_name": "Python 3 (ipykernel)",
   "language": "python",
   "name": "python3"
  },
  "language_info": {
   "codemirror_mode": {
    "name": "ipython",
    "version": 3
   },
   "file_extension": ".py",
   "mimetype": "text/x-python",
   "name": "python",
   "nbconvert_exporter": "python",
   "pygments_lexer": "ipython3",
   "version": "3.9.6"
  }
 },
 "nbformat": 4,
 "nbformat_minor": 4
}
